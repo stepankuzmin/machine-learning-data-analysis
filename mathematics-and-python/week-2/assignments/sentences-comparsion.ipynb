{
 "cells": [
  {
   "cell_type": "markdown",
   "metadata": {},
   "source": [
    "# Линейная алгебра: сходство текстов и аппроксимация функций\n",
    "## Cравнение предложений"
   ]
  },
  {
   "cell_type": "code",
   "execution_count": 1,
   "metadata": {
    "collapsed": false
   },
   "outputs": [],
   "source": [
    "import re\n",
    "import numpy\n",
    "from scipy import spatial\n",
    "from itertools import islice\n",
    "from collections import Counter"
   ]
  },
  {
   "cell_type": "code",
   "execution_count": 2,
   "metadata": {
    "collapsed": false
   },
   "outputs": [],
   "source": [
    "f = open('sentences.txt', 'r')\n",
    "\n",
    "sentences = []\n",
    "for line in f:\n",
    "    sentences.append(line.lower())\n",
    "\n",
    "f.close()"
   ]
  },
  {
   "cell_type": "code",
   "execution_count": 3,
   "metadata": {
    "collapsed": false
   },
   "outputs": [],
   "source": [
    "tokenize = lambda string: filter(lambda token: token != '', re.split('[^a-z]', string))\n",
    "toDict = lambda s: dict(zip(range(len(s)), s))\n",
    "\n",
    "tokenizedSentences = map(tokenize, sentences)\n",
    "tokens = reduce(lambda acc, tokenizedSentence: acc | tokenizedSentence, map(set, tokenizedSentences), set())\n",
    "tokensDict = toDict(tokens)"
   ]
  },
  {
   "cell_type": "code",
   "execution_count": 4,
   "metadata": {
    "collapsed": false
   },
   "outputs": [],
   "source": [
    "n = len(sentences)\n",
    "d = len(tokens)\n",
    "m = numpy.zeros((n, d))\n",
    "\n",
    "for i in range(n):\n",
    "    frequencies = Counter(tokenizedSentences[i])\n",
    "    for j in range(d):\n",
    "        word = tokensDict[j]\n",
    "        m[i, j] = frequencies[word]"
   ]
  },
  {
   "cell_type": "code",
   "execution_count": 5,
   "metadata": {
    "collapsed": false
   },
   "outputs": [
    {
     "data": {
      "text/plain": [
       "[(5, 0.7327387580875756),\n",
       " (3, 0.77708871496985887),\n",
       " (20, 0.82503644694405864),\n",
       " (9, 0.83281653622739416),\n",
       " (11, 0.83964325485254543),\n",
       " (15, 0.84063618542208085),\n",
       " (19, 0.84275727449171223),\n",
       " (1, 0.86447381456421235),\n",
       " (12, 0.87035925528956715),\n",
       " (13, 0.87401184233025764),\n",
       " (10, 0.88047713906656067),\n",
       " (7, 0.88427248752843102),\n",
       " (18, 0.88854435748492944),\n",
       " (2, 0.89517151632780823),\n",
       " (8, 0.90550888174769317),\n",
       " (6, 0.92587506833388988),\n",
       " (4, 0.94023856953328033),\n",
       " (14, 0.94427217874246472),\n",
       " (17, 0.94427217874246472),\n",
       " (0, 0.95275444087384664),\n",
       " (16, 0.95664450152379399)]"
      ]
     },
     "execution_count": 5,
     "metadata": {},
     "output_type": "execute_result"
    }
   ],
   "source": [
    "cosineDistances = zip(range(len(m[1:])), map(lambda array: spatial.distance.cosine(m[0], array), m[1:]))\n",
    "sortedCosineDistances = sorted(cosineDistances, key=lambda tup: tup[1])\n",
    "sortedCosineDistances"
   ]
  },
  {
   "cell_type": "code",
   "execution_count": 6,
   "metadata": {
    "collapsed": false
   },
   "outputs": [],
   "source": [
    "closestSentences = map(lambda tup: tup[0] + 1, list(islice(sortedCosineDistances, 2)))"
   ]
  },
  {
   "cell_type": "code",
   "execution_count": 7,
   "metadata": {
    "collapsed": false
   },
   "outputs": [
    {
     "name": "stdout",
     "output_type": "stream",
     "text": [
      "in comparison to dogs, cats have not undergone major changes during the domestication process.\n",
      "\n",
      "domestic cats are similar in size to the other members of the genus felis, typically weighing between 4 and 5 kg (8.8 and 11.0 lb).\n",
      "\n",
      "in one, people deliberately tamed cats in a process of artificial selection, as they were useful predators of vermin.\n",
      "\n"
     ]
    }
   ],
   "source": [
    "print sentences[0]\n",
    "\n",
    "print sentences[closestSentences[0]]\n",
    "print sentences[closestSentences[1]]"
   ]
  },
  {
   "cell_type": "code",
   "execution_count": 8,
   "metadata": {
    "collapsed": false
   },
   "outputs": [],
   "source": [
    "f = open('submission-1.txt', 'w')\n",
    "f.write(' '.join(str(idx) for idx in closestSentences))\n",
    "f.close()"
   ]
  },
  {
   "cell_type": "code",
   "execution_count": null,
   "metadata": {
    "collapsed": true
   },
   "outputs": [],
   "source": []
  }
 ],
 "metadata": {
  "kernelspec": {
   "display_name": "Python 2",
   "language": "python",
   "name": "python2"
  },
  "language_info": {
   "codemirror_mode": {
    "name": "ipython",
    "version": 2
   },
   "file_extension": ".py",
   "mimetype": "text/x-python",
   "name": "python",
   "nbconvert_exporter": "python",
   "pygments_lexer": "ipython2",
   "version": "2.7.12"
  }
 },
 "nbformat": 4,
 "nbformat_minor": 1
}
